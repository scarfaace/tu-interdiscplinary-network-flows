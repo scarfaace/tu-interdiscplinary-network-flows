{
 "cells": [
  {
   "cell_type": "code",
   "execution_count": 1,
   "metadata": {},
   "outputs": [],
   "source": [
    "import pandas as pd\n",
    "from sklearn.model_selection import train_test_split\n",
    "from tensorflow.python.keras.preprocessing.sequence import pad_sequences\n",
    "from keras.optimizers import SGD\n",
    "from sklearn.utils import class_weight\n",
    "from tensorflow.python.keras.preprocessing.text import Tokenizer\n",
    "import tensorflow as tf\n",
    "import numpy as np\n",
    "tf.random.set_seed(123)\n",
    "np.random.seed(7)"
   ]
  },
  {
   "cell_type": "code",
   "execution_count": 2,
   "metadata": {},
   "outputs": [],
   "source": [
    "def get_dataframe():\n",
    "    df = pd.read_csv(\"10percent_cut.tsv\", sep='\\t')\n",
    "    return df"
   ]
  },
  {
   "cell_type": "code",
   "execution_count": 3,
   "metadata": {},
   "outputs": [],
   "source": [
    "def load_dataset(df):\n",
    "    train, test = train_test_split(df[['transcription', 'label']], train_size=0.7, random_state=123)\n",
    "\n",
    "    train_texts = train['transcription'].values\n",
    "    train_label = train['label'].values\n",
    "\n",
    "    validation_texts = test['transcription'].values\n",
    "    validation_label = test['label'].values\n",
    "\n",
    "#     train_texts = remove_float_instances(train_texts_tmp)\n",
    "#     validation_texts = remove_float_instances(validation_texts_tmp)\n",
    "\n",
    "    return train_texts, train_label, validation_texts, validation_label\n"
   ]
  },
  {
   "cell_type": "code",
   "execution_count": 4,
   "metadata": {},
   "outputs": [],
   "source": [
    "import matplotlib.pyplot as plt\n",
    "def plot_graphs(history, metric):\n",
    "  plt.plot(history.history[metric])\n",
    "  plt.plot(history.history['val_'+metric], '')\n",
    "  plt.xlabel(\"Epochs\")\n",
    "  plt.ylabel(metric)\n",
    "  plt.legend([metric, 'val_'+metric])"
   ]
  },
  {
   "cell_type": "code",
   "execution_count": 5,
   "metadata": {},
   "outputs": [],
   "source": [
    "def create_alphabet(dataframe):\n",
    "    category_lines = {1: [], 0: []}\n",
    "    all_categories = [0, 1]\n",
    "    alphabet = set()\n",
    "\n",
    "    for index, row in dataframe.iterrows():\n",
    "        ascii_transcription = row['transcription']\n",
    "        tokenized_transcription = [char for char in ascii_transcription]\n",
    "        for token in tokenized_transcription:\n",
    "            alphabet.add(token)\n",
    "\n",
    "        category_lines[row['label']].append(ascii_transcription)\n",
    "\n",
    "    N_LETTERS = len(alphabet)\n",
    "    ALL_LETTERS = ''.join(alphabet)\n",
    "    return N_LETTERS, ALL_LETTERS"
   ]
  },
  {
   "cell_type": "code",
   "execution_count": 6,
   "metadata": {},
   "outputs": [],
   "source": [
    "def sequence_to_embeddings(tokenizer, train_texts, validation_texts):\n",
    "    sequences = tokenizer.texts_to_sequences(train_texts)\n",
    "    validation_sequences = tokenizer.texts_to_sequences(validation_texts)\n",
    "    # print(train_texts[0])\n",
    "    # print(sequences[0])\n",
    "    data = pad_sequences(sequences, maxlen=750, padding='post')\n",
    "    validation_data = pad_sequences(validation_sequences, maxlen=750, padding='post')\n",
    "    return data, validation_data\n"
   ]
  },
  {
   "cell_type": "code",
   "execution_count": 12,
   "metadata": {},
   "outputs": [],
   "source": [
    "def define_model(input_dimension, learning_rate):\n",
    "    model = tf.keras.Sequential([\n",
    "        tf.keras.layers.Embedding(\n",
    "            input_dim=input_dimension,\n",
    "            output_dim=128),\n",
    "        tf.keras.layers.LSTM(128),\n",
    "        #tf.keras.layers.Dropout(0.2),\n",
    "        tf.keras.layers.Dense(64, activation='relu'),\n",
    "        #tf.keras.layers.Dropout(0.2),\n",
    "        tf.keras.layers.Dense(1, activation='sigmoid')\n",
    "    ])\n",
    "\n",
    "    # %%\n",
    "    # model.compile(loss=tf.keras.losses.BinaryCrossentropy(from_logits=True),\n",
    "    #               optimizer=tf.keras.optimizers.Adam(1),\n",
    "    #               metrics=['}accuracy'])\n",
    "\n",
    "    # opt = SGD(lr=learning_rate)\n",
    "    model.compile(loss=\"binary_crossentropy\", optimizer=tf.keras.optimizers.Adam(learning_rate), metrics=['accuracy'])\n",
    "\n",
    "    return model"
   ]
  },
  {
   "cell_type": "code",
   "execution_count": 8,
   "metadata": {},
   "outputs": [
    {
     "name": "stdout",
     "output_type": "stream",
     "text": [
      "CPU times: user 30.3 s, sys: 376 ms, total: 30.7 s\n",
      "Wall time: 30.7 s\n"
     ]
    }
   ],
   "source": [
    "%%time\n",
    "df = get_dataframe()\n",
    "train_texts, train_label, validation_texts, validation_label = load_dataset(df)\n",
    "tokenizer = Tokenizer(num_words=None, char_level=True, oov_token='UNK', lower=False)\n",
    "tokenizer.fit_on_texts(train_texts)"
   ]
  },
  {
   "cell_type": "code",
   "execution_count": 9,
   "metadata": {},
   "outputs": [
    {
     "name": "stdout",
     "output_type": "stream",
     "text": [
      "{'R': 1, 't': 2, ';': 3, '$': 4, '&': 5, '\\t': 6, 'w': 7, '(': 8, 'm': 9, '1': 10, '5': 11, '!': 12, '_': 13, '@': 14, ',': 15, 'Z': 16, 'v': 17, 'p': 18, '0': 19, 'X': 20, '+': 21, 'B': 22, '7': 23, 'W': 24, '9': 25, '#': 26, 'D': 27, 'Y': 28, ':': 29, ' ': 30, '\\n': 31, '*': 32, 'Q': 33, 'd': 34, 'a': 35, '2': 36, 'n': 37, 'f': 38, 'b': 39, '[': 40, '`': 41, 'U': 42, '3': 43, '4': 44, 'I': 45, \"'\": 46, 'l': 47, 'e': 48, 'r': 49, ')': 50, 'o': 51, '^': 52, 'T': 53, '%': 54, '/': 55, '\"': 56, 'N': 57, '-': 58, 'V': 59, ']': 60, 'A': 61, 's': 62, '\\\\': 63, '.': 64, 'x': 65, 'c': 66, '6': 67, '8': 68, 'P': 69, 'S': 70, '?': 71, 'i': 72}\n"
     ]
    }
   ],
   "source": [
    "N_LETTERS, ALL_LETTERS = create_alphabet(df)\n",
    "char_dict = {}\n",
    "for i, char in enumerate(ALL_LETTERS):\n",
    "    char_dict[char] = i + 1\n",
    "print(char_dict)"
   ]
  },
  {
   "cell_type": "code",
   "execution_count": 10,
   "metadata": {},
   "outputs": [
    {
     "name": "stdout",
     "output_type": "stream",
     "text": [
      "CPU times: user 8 µs, sys: 0 ns, total: 8 µs\n",
      "Wall time: 12.2 µs\n"
     ]
    }
   ],
   "source": [
    "%%time\n",
    "tokenizer.word_index = char_dict\n",
    "tokenizer.word_index[tokenizer.oov_token] = max(char_dict.values()) + 1"
   ]
  },
  {
   "cell_type": "code",
   "execution_count": 11,
   "metadata": {},
   "outputs": [
    {
     "name": "stdout",
     "output_type": "stream",
     "text": [
      "CPU times: user 43.8 s, sys: 988 ms, total: 44.8 s\n",
      "Wall time: 44.8 s\n"
     ]
    }
   ],
   "source": [
    "%%time\n",
    "data, validation_data = sequence_to_embeddings(tokenizer=tokenizer, train_texts=train_texts,\n",
    "                                           validation_texts=validation_texts)"
   ]
  },
  {
   "cell_type": "markdown",
   "metadata": {},
   "source": [
    "# Non-loop version "
   ]
  },
  {
   "cell_type": "code",
   "execution_count": 40,
   "metadata": {},
   "outputs": [],
   "source": [
    "input_dimension = len(char_dict.values())\n",
    "model = define_model(input_dimension=input_dimension, learning_rate=0.001)\n",
    "class_weights = dict(zip(np.unique(train_label), class_weight.compute_class_weight('balanced', np.unique(train_label), train_label)))"
   ]
  },
  {
   "cell_type": "code",
   "execution_count": 41,
   "metadata": {},
   "outputs": [
    {
     "name": "stdout",
     "output_type": "stream",
     "text": [
      "89/89 [==============================] - 35s 375ms/step - loss: 0.0000e+00 - accuracy: 0.0842\n"
     ]
    }
   ],
   "source": [
    "history = model.fit(x=data, y=train_label, epochs=1, class_weight=class_weights)"
   ]
  },
  {
   "cell_type": "code",
   "execution_count": 30,
   "metadata": {},
   "outputs": [
    {
     "name": "stdout",
     "output_type": "stream",
     "text": [
      "39/39 [==============================] - 5s 114ms/step - loss: 0.0000e+00 - accuracy: 0.0738\n"
     ]
    }
   ],
   "source": [
    "test_loss, test_acc = model.evaluate(x=validation_data, y=validation_label)"
   ]
  },
  {
   "cell_type": "code",
   "execution_count": 39,
   "metadata": {},
   "outputs": [
    {
     "name": "stderr",
     "output_type": "stream",
     "text": [
      "/usr/local/lib/python3.6/dist-packages/tensorflow/python/keras/engine/sequential.py:450: UserWarning: `model.predict_classes()` is deprecated and will be removed after 2021-01-01. Please use instead:* `np.argmax(model.predict(x), axis=-1)`,   if your model does multi-class classification   (e.g. if it uses a `softmax` last-layer activation).* `(model.predict(x) > 0.5).astype(\"int32\")`,   if your model does binary classification   (e.g. if it uses a `sigmoid` last-layer activation).\n",
      "  warnings.warn('`model.predict_classes()` is deprecated and '\n"
     ]
    },
    {
     "name": "stdout",
     "output_type": "stream",
     "text": [
      "tf.Tensor(\n",
      "[[   0 1129]\n",
      " [   0   90]], shape=(2, 2), dtype=int32)\n"
     ]
    }
   ],
   "source": [
    "predictions = model.predict_classes(x=validation_data)\n",
    "confusion = tf.math.confusion_matrix(labels=validation_label, predictions=predictions, num_classes=2)\n",
    "print(confusion)"
   ]
  },
  {
   "cell_type": "code",
   "execution_count": 36,
   "metadata": {},
   "outputs": [
    {
     "ename": "KeyError",
     "evalue": "'val_accuracy'",
     "output_type": "error",
     "traceback": [
      "\u001b[0;31m---------------------------------------------------------------------------\u001b[0m",
      "\u001b[0;31mKeyError\u001b[0m                                  Traceback (most recent call last)",
      "\u001b[0;32m<ipython-input-36-f0080dad1663>\u001b[0m in \u001b[0;36m<module>\u001b[0;34m\u001b[0m\n\u001b[1;32m      1\u001b[0m \u001b[0mplt\u001b[0m\u001b[0;34m.\u001b[0m\u001b[0mfigure\u001b[0m\u001b[0;34m(\u001b[0m\u001b[0mfigsize\u001b[0m\u001b[0;34m=\u001b[0m\u001b[0;34m(\u001b[0m\u001b[0;36m16\u001b[0m\u001b[0;34m,\u001b[0m\u001b[0;36m6\u001b[0m\u001b[0;34m)\u001b[0m\u001b[0;34m)\u001b[0m\u001b[0;34m\u001b[0m\u001b[0;34m\u001b[0m\u001b[0m\n\u001b[1;32m      2\u001b[0m \u001b[0mplt\u001b[0m\u001b[0;34m.\u001b[0m\u001b[0msubplot\u001b[0m\u001b[0;34m(\u001b[0m\u001b[0;36m1\u001b[0m\u001b[0;34m,\u001b[0m\u001b[0;36m2\u001b[0m\u001b[0;34m,\u001b[0m\u001b[0;36m1\u001b[0m\u001b[0;34m)\u001b[0m\u001b[0;34m\u001b[0m\u001b[0;34m\u001b[0m\u001b[0m\n\u001b[0;32m----> 3\u001b[0;31m \u001b[0mplot_graphs\u001b[0m\u001b[0;34m(\u001b[0m\u001b[0mhistory\u001b[0m\u001b[0;34m,\u001b[0m \u001b[0;34m'accuracy'\u001b[0m\u001b[0;34m)\u001b[0m\u001b[0;34m\u001b[0m\u001b[0;34m\u001b[0m\u001b[0m\n\u001b[0m\u001b[1;32m      4\u001b[0m \u001b[0mplt\u001b[0m\u001b[0;34m.\u001b[0m\u001b[0msubplot\u001b[0m\u001b[0;34m(\u001b[0m\u001b[0;36m1\u001b[0m\u001b[0;34m,\u001b[0m\u001b[0;36m2\u001b[0m\u001b[0;34m,\u001b[0m\u001b[0;36m2\u001b[0m\u001b[0;34m)\u001b[0m\u001b[0;34m\u001b[0m\u001b[0;34m\u001b[0m\u001b[0m\n\u001b[1;32m      5\u001b[0m \u001b[0mplot_graphs\u001b[0m\u001b[0;34m(\u001b[0m\u001b[0mhistory\u001b[0m\u001b[0;34m,\u001b[0m \u001b[0;34m'loss'\u001b[0m\u001b[0;34m)\u001b[0m\u001b[0;34m\u001b[0m\u001b[0;34m\u001b[0m\u001b[0m\n",
      "\u001b[0;32m<ipython-input-35-c2b265b8e833>\u001b[0m in \u001b[0;36mplot_graphs\u001b[0;34m(history, metric)\u001b[0m\n\u001b[1;32m      2\u001b[0m \u001b[0;32mdef\u001b[0m \u001b[0mplot_graphs\u001b[0m\u001b[0;34m(\u001b[0m\u001b[0mhistory\u001b[0m\u001b[0;34m,\u001b[0m \u001b[0mmetric\u001b[0m\u001b[0;34m)\u001b[0m\u001b[0;34m:\u001b[0m\u001b[0;34m\u001b[0m\u001b[0;34m\u001b[0m\u001b[0m\n\u001b[1;32m      3\u001b[0m   \u001b[0mplt\u001b[0m\u001b[0;34m.\u001b[0m\u001b[0mplot\u001b[0m\u001b[0;34m(\u001b[0m\u001b[0mhistory\u001b[0m\u001b[0;34m.\u001b[0m\u001b[0mhistory\u001b[0m\u001b[0;34m[\u001b[0m\u001b[0mmetric\u001b[0m\u001b[0;34m]\u001b[0m\u001b[0;34m)\u001b[0m\u001b[0;34m\u001b[0m\u001b[0;34m\u001b[0m\u001b[0m\n\u001b[0;32m----> 4\u001b[0;31m   \u001b[0mplt\u001b[0m\u001b[0;34m.\u001b[0m\u001b[0mplot\u001b[0m\u001b[0;34m(\u001b[0m\u001b[0mhistory\u001b[0m\u001b[0;34m.\u001b[0m\u001b[0mhistory\u001b[0m\u001b[0;34m[\u001b[0m\u001b[0;34m'val_'\u001b[0m\u001b[0;34m+\u001b[0m\u001b[0mmetric\u001b[0m\u001b[0;34m]\u001b[0m\u001b[0;34m,\u001b[0m \u001b[0;34m''\u001b[0m\u001b[0;34m)\u001b[0m\u001b[0;34m\u001b[0m\u001b[0;34m\u001b[0m\u001b[0m\n\u001b[0m\u001b[1;32m      5\u001b[0m   \u001b[0mplt\u001b[0m\u001b[0;34m.\u001b[0m\u001b[0mxlabel\u001b[0m\u001b[0;34m(\u001b[0m\u001b[0;34m\"Epochs\"\u001b[0m\u001b[0;34m)\u001b[0m\u001b[0;34m\u001b[0m\u001b[0;34m\u001b[0m\u001b[0m\n\u001b[1;32m      6\u001b[0m   \u001b[0mplt\u001b[0m\u001b[0;34m.\u001b[0m\u001b[0mylabel\u001b[0m\u001b[0;34m(\u001b[0m\u001b[0mmetric\u001b[0m\u001b[0;34m)\u001b[0m\u001b[0;34m\u001b[0m\u001b[0;34m\u001b[0m\u001b[0m\n",
      "\u001b[0;31mKeyError\u001b[0m: 'val_accuracy'"
     ]
    },
    {
     "data": {
      "image/png": "[encoded data removed]",
      "text/plain": [
       "<Figure size 1152x432 with 1 Axes>"
      ]
     },
     "metadata": {
      "needs_background": "light"
     },
     "output_type": "display_data"
    }
   ],
   "source": [
    "plt.figure(figsize=(16,6))\n",
    "plt.subplot(1,2,1)\n",
    "plot_graphs(history, 'accuracy')\n",
    "plt.subplot(1,2,2)\n",
    "plot_graphs(history, 'loss')"
   ]
  },
  {
   "cell_type": "markdown",
   "metadata": {},
   "source": [
    "# Loop version for finding best learning rate"
   ]
  },
  {
   "cell_type": "code",
   "execution_count": null,
   "metadata": {},
   "outputs": [],
   "source": [
    "learning_rates = np.linspace(0.00001, 0.00000001, 20) #[1, 0.1, 0.01, 0.001, 0.0001, 0.00001, 0.000001]\n",
    "accuracies = []\n",
    "confusion_matrices = []\n",
    "tf.random.set_seed(123)\n",
    "np.random.seed(7)\n",
    "\n",
    "for learning_rate in learning_rates:\n",
    "    input_dimension = len(char_dict.values())\n",
    "    model = define_model(input_dimension=input_dimension, learning_rate=learning_rate)\n",
    "    class_weights = dict(zip(np.unique(train_label), class_weight.compute_class_weight('balanced', np.unique(train_label), train_label)))\n",
    "\n",
    "    history = model.fit(x=data, y=train_label, epochs=5, class_weight=class_weights)\n",
    "\n",
    "    test_loss, test_acc = model.evaluate(x=validation_data, y=validation_label)\n",
    "\n",
    "    predictions = model.predict_classes(x=validation_data)\n",
    "    confusion = tf.math.confusion_matrix(labels=validation_label, predictions=predictions, num_classes=2)\n",
    "    \n",
    "    print(confusion)\n",
    "    \n",
    "    accuracies.append(test_acc)\n",
    "    confusion_matrices.append(confusion)"
   ]
  },
  {
   "cell_type": "markdown",
   "metadata": {},
   "source": [
    "# Numpy saving & loading preprocessed arrays"
   ]
  },
  {
   "cell_type": "code",
   "execution_count": 16,
   "metadata": {},
   "outputs": [],
   "source": [
    "# Saving data & validation data to prevent preprocessing\n",
    "#np.savetxt('validation_numpy.txt', validation_data, fmt='%d')\n",
    "#np.savetxt('data_numpy.txt', data, fmt='%d')"
   ]
  },
  {
   "cell_type": "code",
   "execution_count": 8,
   "metadata": {},
   "outputs": [],
   "source": [
    "data = np.loadtxt('data_numpy.txt', dtype=int)\n",
    "validation_data = np.loadtxt('validation_numpy.txt', dtype=int)"
   ]
  }
 ],
 "metadata": {
  "kernelspec": {
   "display_name": "Python 3",
   "language": "python",
   "name": "python3"
  },
  "language_info": {
   "codemirror_mode": {
    "name": "ipython",
    "version": 3
   },
   "file_extension": ".py",
   "mimetype": "text/x-python",
   "name": "python",
   "nbconvert_exporter": "python",
   "pygments_lexer": "ipython3",
   "version": "3.6.8"
  }
 },
 "nbformat": 4,
 "nbformat_minor": 4
}
